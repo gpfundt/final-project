{
 "cells": [
  {
   "cell_type": "code",
   "execution_count": 1,
   "metadata": {},
   "outputs": [],
   "source": [
    "import pandas as pd\n",
    "import sqlalchemy\n",
    "from sqlalchemy import *"
   ]
  },
  {
   "cell_type": "code",
   "execution_count": 2,
   "metadata": {},
   "outputs": [],
   "source": [
    "engine = create_engine(\"sqlite:///data/movies-db.sqlite\")\n",
    "conn = engine.connect()"
   ]
  },
  {
   "cell_type": "code",
   "execution_count": null,
   "metadata": {},
   "outputs": [],
   "source": [
    "df = pd.read_csv(\"data/genome-scores.csv\")\n",
    "df2 = pd.read_csv(\"data/genome-tags.csv\")\n",
    "df3 = pd.read_csv(\"data/links.csv\")\n",
    "df4 = pd.read_csv(\"data/movies.csv\")\n",
    "df5 = pd.read_csv(\"data/ratings.csv\")"
   ]
  },
  {
   "cell_type": "code",
   "execution_count": 4,
   "metadata": {},
   "outputs": [],
   "source": [
    "tags_df = df.pivot(index='movieId', columns='tagId', values='relevance')\n",
    "tags_df.to_sql('tags_rel', con=conn)"
   ]
  },
  {
   "cell_type": "code",
   "execution_count": 5,
   "metadata": {},
   "outputs": [
    {
     "data": {
      "text/html": [
       "<div>\n",
       "<style scoped>\n",
       "    .dataframe tbody tr th:only-of-type {\n",
       "        vertical-align: middle;\n",
       "    }\n",
       "\n",
       "    .dataframe tbody tr th {\n",
       "        vertical-align: top;\n",
       "    }\n",
       "\n",
       "    .dataframe thead th {\n",
       "        text-align: right;\n",
       "    }\n",
       "</style>\n",
       "<table border=\"1\" class=\"dataframe\">\n",
       "  <thead>\n",
       "    <tr style=\"text-align: right;\">\n",
       "      <th>tagId</th>\n",
       "      <th>1</th>\n",
       "      <th>2</th>\n",
       "      <th>3</th>\n",
       "      <th>4</th>\n",
       "      <th>5</th>\n",
       "      <th>6</th>\n",
       "      <th>7</th>\n",
       "      <th>8</th>\n",
       "      <th>9</th>\n",
       "      <th>10</th>\n",
       "      <th>...</th>\n",
       "      <th>1119</th>\n",
       "      <th>1120</th>\n",
       "      <th>1121</th>\n",
       "      <th>1122</th>\n",
       "      <th>1123</th>\n",
       "      <th>1124</th>\n",
       "      <th>1125</th>\n",
       "      <th>1126</th>\n",
       "      <th>1127</th>\n",
       "      <th>1128</th>\n",
       "    </tr>\n",
       "    <tr>\n",
       "      <th>movieId</th>\n",
       "      <th></th>\n",
       "      <th></th>\n",
       "      <th></th>\n",
       "      <th></th>\n",
       "      <th></th>\n",
       "      <th></th>\n",
       "      <th></th>\n",
       "      <th></th>\n",
       "      <th></th>\n",
       "      <th></th>\n",
       "      <th></th>\n",
       "      <th></th>\n",
       "      <th></th>\n",
       "      <th></th>\n",
       "      <th></th>\n",
       "      <th></th>\n",
       "      <th></th>\n",
       "      <th></th>\n",
       "      <th></th>\n",
       "      <th></th>\n",
       "      <th></th>\n",
       "    </tr>\n",
       "  </thead>\n",
       "  <tbody>\n",
       "    <tr>\n",
       "      <td>1</td>\n",
       "      <td>0.02900</td>\n",
       "      <td>0.02375</td>\n",
       "      <td>0.05425</td>\n",
       "      <td>0.06875</td>\n",
       "      <td>0.16000</td>\n",
       "      <td>0.19525</td>\n",
       "      <td>0.07600</td>\n",
       "      <td>0.25200</td>\n",
       "      <td>0.22750</td>\n",
       "      <td>0.02400</td>\n",
       "      <td>...</td>\n",
       "      <td>0.03775</td>\n",
       "      <td>0.02250</td>\n",
       "      <td>0.04075</td>\n",
       "      <td>0.03175</td>\n",
       "      <td>0.12950</td>\n",
       "      <td>0.04550</td>\n",
       "      <td>0.02000</td>\n",
       "      <td>0.03850</td>\n",
       "      <td>0.09125</td>\n",
       "      <td>0.02225</td>\n",
       "    </tr>\n",
       "    <tr>\n",
       "      <td>2</td>\n",
       "      <td>0.03625</td>\n",
       "      <td>0.03625</td>\n",
       "      <td>0.08275</td>\n",
       "      <td>0.08175</td>\n",
       "      <td>0.10200</td>\n",
       "      <td>0.06900</td>\n",
       "      <td>0.05775</td>\n",
       "      <td>0.10100</td>\n",
       "      <td>0.08225</td>\n",
       "      <td>0.05250</td>\n",
       "      <td>...</td>\n",
       "      <td>0.04775</td>\n",
       "      <td>0.02050</td>\n",
       "      <td>0.01650</td>\n",
       "      <td>0.02450</td>\n",
       "      <td>0.13050</td>\n",
       "      <td>0.02700</td>\n",
       "      <td>0.01825</td>\n",
       "      <td>0.01225</td>\n",
       "      <td>0.09925</td>\n",
       "      <td>0.01850</td>\n",
       "    </tr>\n",
       "    <tr>\n",
       "      <td>3</td>\n",
       "      <td>0.04150</td>\n",
       "      <td>0.04950</td>\n",
       "      <td>0.03000</td>\n",
       "      <td>0.09525</td>\n",
       "      <td>0.04525</td>\n",
       "      <td>0.05925</td>\n",
       "      <td>0.04000</td>\n",
       "      <td>0.14150</td>\n",
       "      <td>0.04075</td>\n",
       "      <td>0.03200</td>\n",
       "      <td>...</td>\n",
       "      <td>0.05800</td>\n",
       "      <td>0.02375</td>\n",
       "      <td>0.03550</td>\n",
       "      <td>0.02125</td>\n",
       "      <td>0.12775</td>\n",
       "      <td>0.03250</td>\n",
       "      <td>0.01625</td>\n",
       "      <td>0.02125</td>\n",
       "      <td>0.09525</td>\n",
       "      <td>0.01750</td>\n",
       "    </tr>\n",
       "    <tr>\n",
       "      <td>4</td>\n",
       "      <td>0.03350</td>\n",
       "      <td>0.03675</td>\n",
       "      <td>0.04275</td>\n",
       "      <td>0.02625</td>\n",
       "      <td>0.05250</td>\n",
       "      <td>0.03025</td>\n",
       "      <td>0.02425</td>\n",
       "      <td>0.07475</td>\n",
       "      <td>0.03750</td>\n",
       "      <td>0.02400</td>\n",
       "      <td>...</td>\n",
       "      <td>0.04900</td>\n",
       "      <td>0.03275</td>\n",
       "      <td>0.02125</td>\n",
       "      <td>0.03675</td>\n",
       "      <td>0.15925</td>\n",
       "      <td>0.05225</td>\n",
       "      <td>0.01500</td>\n",
       "      <td>0.01600</td>\n",
       "      <td>0.09175</td>\n",
       "      <td>0.01500</td>\n",
       "    </tr>\n",
       "    <tr>\n",
       "      <td>5</td>\n",
       "      <td>0.04050</td>\n",
       "      <td>0.05175</td>\n",
       "      <td>0.03600</td>\n",
       "      <td>0.04625</td>\n",
       "      <td>0.05500</td>\n",
       "      <td>0.08000</td>\n",
       "      <td>0.02150</td>\n",
       "      <td>0.07375</td>\n",
       "      <td>0.02825</td>\n",
       "      <td>0.02375</td>\n",
       "      <td>...</td>\n",
       "      <td>0.05375</td>\n",
       "      <td>0.02625</td>\n",
       "      <td>0.02050</td>\n",
       "      <td>0.02125</td>\n",
       "      <td>0.17725</td>\n",
       "      <td>0.02050</td>\n",
       "      <td>0.01500</td>\n",
       "      <td>0.01550</td>\n",
       "      <td>0.08875</td>\n",
       "      <td>0.01575</td>\n",
       "    </tr>\n",
       "  </tbody>\n",
       "</table>\n",
       "<p>5 rows × 1128 columns</p>\n",
       "</div>"
      ],
      "text/plain": [
       "tagId       1        2        3        4        5        6        7     \\\n",
       "movieId                                                                  \n",
       "1        0.02900  0.02375  0.05425  0.06875  0.16000  0.19525  0.07600   \n",
       "2        0.03625  0.03625  0.08275  0.08175  0.10200  0.06900  0.05775   \n",
       "3        0.04150  0.04950  0.03000  0.09525  0.04525  0.05925  0.04000   \n",
       "4        0.03350  0.03675  0.04275  0.02625  0.05250  0.03025  0.02425   \n",
       "5        0.04050  0.05175  0.03600  0.04625  0.05500  0.08000  0.02150   \n",
       "\n",
       "tagId       8        9        10    ...     1119     1120     1121     1122  \\\n",
       "movieId                             ...                                       \n",
       "1        0.25200  0.22750  0.02400  ...  0.03775  0.02250  0.04075  0.03175   \n",
       "2        0.10100  0.08225  0.05250  ...  0.04775  0.02050  0.01650  0.02450   \n",
       "3        0.14150  0.04075  0.03200  ...  0.05800  0.02375  0.03550  0.02125   \n",
       "4        0.07475  0.03750  0.02400  ...  0.04900  0.03275  0.02125  0.03675   \n",
       "5        0.07375  0.02825  0.02375  ...  0.05375  0.02625  0.02050  0.02125   \n",
       "\n",
       "tagId       1123     1124     1125     1126     1127     1128  \n",
       "movieId                                                        \n",
       "1        0.12950  0.04550  0.02000  0.03850  0.09125  0.02225  \n",
       "2        0.13050  0.02700  0.01825  0.01225  0.09925  0.01850  \n",
       "3        0.12775  0.03250  0.01625  0.02125  0.09525  0.01750  \n",
       "4        0.15925  0.05225  0.01500  0.01600  0.09175  0.01500  \n",
       "5        0.17725  0.02050  0.01500  0.01550  0.08875  0.01575  \n",
       "\n",
       "[5 rows x 1128 columns]"
      ]
     },
     "execution_count": 5,
     "metadata": {},
     "output_type": "execute_result"
    }
   ],
   "source": [
    "tags_df.head()"
   ]
  },
  {
   "cell_type": "code",
   "execution_count": null,
   "metadata": {},
   "outputs": [],
   "source": [
    "movies_df = df4.drop(columns='genres')"
   ]
  },
  {
   "cell_type": "code",
   "execution_count": null,
   "metadata": {},
   "outputs": [],
   "source": [
    "ratings_df = df5.groupby('movieId').mean()\n",
    "ratings = ratings_df.drop(columns = ['userId', 'timestamp'])\n",
    "ratings.head()\n",
    "ratings.to_csv('data/ratings_df.csv')"
   ]
  },
  {
   "cell_type": "code",
   "execution_count": null,
   "metadata": {},
   "outputs": [],
   "source": [
    "movies_ratings_df = pd.merge(movies_df, ratings, how='outer', on='movieId')"
   ]
  },
  {
   "cell_type": "code",
   "execution_count": null,
   "metadata": {},
   "outputs": [],
   "source": [
    "movies_ratings_df.head()"
   ]
  },
  {
   "cell_type": "code",
   "execution_count": null,
   "metadata": {},
   "outputs": [],
   "source": [
    "full_df = pd.merge(movies_ratings_df, tags_df, how='outer', on='movieId')"
   ]
  },
  {
   "cell_type": "code",
   "execution_count": null,
   "metadata": {},
   "outputs": [],
   "source": [
    "full_df.to_sql('movies', con=conn)"
   ]
  },
  {
   "cell_type": "code",
   "execution_count": null,
   "metadata": {},
   "outputs": [],
   "source": [
    "selections_df = full_df.drop(columns = ['movieId','title'])"
   ]
  },
  {
   "cell_type": "code",
   "execution_count": null,
   "metadata": {},
   "outputs": [],
   "source": [
    "selections_df.head()"
   ]
  },
  {
   "cell_type": "code",
   "execution_count": null,
   "metadata": {},
   "outputs": [],
   "source": [
    "from sklearn.cluster import KMeans\n",
    "kmeans = KMeans(n_clusters=1000)"
   ]
  },
  {
   "cell_type": "code",
   "execution_count": null,
   "metadata": {},
   "outputs": [],
   "source": [
    "kmeans.fit(selections_df)"
   ]
  },
  {
   "cell_type": "code",
   "execution_count": null,
   "metadata": {},
   "outputs": [],
   "source": [
    "predicted_clusters = kmeans.predict(selections_df)\n",
    "print(predicted_clusters)"
   ]
  },
  {
   "cell_type": "code",
   "execution_count": null,
   "metadata": {},
   "outputs": [],
   "source": [
    "clusters = pd.DataFrame(predicted_clusters)\n",
    "full_df['clusters']=clusters"
   ]
  },
  {
   "cell_type": "code",
   "execution_count": null,
   "metadata": {
    "scrolled": true
   },
   "outputs": [],
   "source": [
    "full_df.head()"
   ]
  },
  {
   "cell_type": "code",
   "execution_count": null,
   "metadata": {},
   "outputs": [],
   "source": []
  },
  {
   "cell_type": "code",
   "execution_count": null,
   "metadata": {},
   "outputs": [],
   "source": [
    "inspector = inspect(engine)\n",
    "tables = inspector.get_table_names()\n",
    "tables"
   ]
  },
  {
   "cell_type": "code",
   "execution_count": null,
   "metadata": {
    "scrolled": true
   },
   "outputs": [],
   "source": [
    "second_cluster = pd.read_sql(\"SELECT * FROM movies Where clusters = '100' \", con=conn)"
   ]
  },
  {
   "cell_type": "code",
   "execution_count": null,
   "metadata": {},
   "outputs": [],
   "source": [
    "second_cluster.head()"
   ]
  },
  {
   "cell_type": "code",
   "execution_count": null,
   "metadata": {},
   "outputs": [],
   "source": [
    "from sklearn.neighbors import NearestNeighbors\n",
    "\n",
    "knn = NearestNeighbors(n_neighbors=10)"
   ]
  },
  {
   "cell_type": "code",
   "execution_count": null,
   "metadata": {},
   "outputs": [],
   "source": [
    "knn.fit(selections_df)\n",
    "knn.kneighbors([selections_df.iloc[1]], return_distance = False)"
   ]
  },
  {
   "cell_type": "code",
   "execution_count": null,
   "metadata": {},
   "outputs": [],
   "source": [
    "full_df.iloc[1]"
   ]
  },
  {
   "cell_type": "code",
   "execution_count": null,
   "metadata": {},
   "outputs": [],
   "source": [
    "selections2_df = "
   ]
  },
  {
   "cell_type": "code",
   "execution_count": null,
   "metadata": {},
   "outputs": [],
   "source": []
  }
 ],
 "metadata": {
  "kernelspec": {
   "display_name": "Python 3",
   "language": "python",
   "name": "python3"
  },
  "language_info": {
   "codemirror_mode": {
    "name": "ipython",
    "version": 3
   },
   "file_extension": ".py",
   "mimetype": "text/x-python",
   "name": "python",
   "nbconvert_exporter": "python",
   "pygments_lexer": "ipython3",
   "version": "3.7.3"
  }
 },
 "nbformat": 4,
 "nbformat_minor": 4
}
